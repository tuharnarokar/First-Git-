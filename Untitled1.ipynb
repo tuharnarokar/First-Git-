{
 "cells": [
  {
   "cell_type": "code",
   "execution_count": 1,
   "id": "1f1469f1-9922-48e5-8844-6bad3891150a",
   "metadata": {},
   "outputs": [
    {
     "name": "stdout",
     "output_type": "stream",
     "text": [
      "Loaded model_v1.pkl successfully!\n",
      "Accuracy of loaded model: 0.98\n"
     ]
    }
   ],
   "source": [
    "import pickle\n",
    "import pandas as pd\n",
    "from sklearn.datasets import load_iris\n",
    "from sklearn.metrics import accuracy_score\n",
    "\n",
    "# Step 1: Load the saved model\n",
    "with open('model_v1.pkl', 'rb') as f:\n",
    "    model = pickle.load(f)\n",
    "\n",
    "print(\"Loaded model_v1.pkl successfully!\")\n",
    "\n",
    "# Step 2: Load the Iris dataset again\n",
    "iris = load_iris()\n",
    "df = pd.DataFrame(data=iris.data, columns=iris.feature_names)\n",
    "df['species'] = iris.target\n",
    "\n",
    "X = df[iris.feature_names]\n",
    "y = df['species']\n",
    "\n",
    "# Step 3: Make predictions\n",
    "y_pred = model.predict(X)\n",
    "\n",
    "# Step 4: Evaluate model performance\n",
    "accuracy = accuracy_score(y, y_pred)\n",
    "print(f\"Accuracy of loaded model: {accuracy:.2f}\")\n",
    "\n"
   ]
  },
  {
   "cell_type": "code",
   "execution_count": null,
   "id": "990f8ffb-cb5d-4e73-8b7c-99dd3d3c411c",
   "metadata": {},
   "outputs": [],
   "source": []
  }
 ],
 "metadata": {
  "kernelspec": {
   "display_name": "Python 3 (ipykernel)",
   "language": "python",
   "name": "python3"
  },
  "language_info": {
   "codemirror_mode": {
    "name": "ipython",
    "version": 3
   },
   "file_extension": ".py",
   "mimetype": "text/x-python",
   "name": "python",
   "nbconvert_exporter": "python",
   "pygments_lexer": "ipython3",
   "version": "3.12.6"
  }
 },
 "nbformat": 4,
 "nbformat_minor": 5
}
