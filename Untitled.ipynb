{
 "cells": [
  {
   "cell_type": "code",
   "execution_count": 2,
   "id": "fb6ae373-a5d3-453e-a0b4-bdb680dbf072",
   "metadata": {},
   "outputs": [
    {
     "name": "stdout",
     "output_type": "stream",
     "text": [
      "Initial Model Accuracy: 1.00\n",
      "model_v1.pkl saved successfully!\n",
      "Tuned Model Accuracy: 1.00\n",
      "model_v2.pkl saved successfully!\n"
     ]
    }
   ],
   "source": [
    "import pandas as pd\n",
    "from sklearn.datasets import load_iris\n",
    "from sklearn.model_selection import train_test_split\n",
    "from sklearn.linear_model import LogisticRegression\n",
    "from sklearn.metrics import accuracy_score\n",
    "from sklearn.model_selection import GridSearchCV\n",
    "import pickle\n",
    "\n",
    "# Step 1: Load the Iris dataset\n",
    "iris = load_iris()\n",
    "df = pd.DataFrame(data=iris.data, columns=iris.feature_names)\n",
    "df['species'] = iris.target\n",
    "\n",
    "# Step 2: Split into training and testing sets\n",
    "X = df[iris.feature_names]\n",
    "y = df['species']\n",
    "X_train, X_test, y_train, y_test = train_test_split(X, y, test_size=0.2, random_state=42)\n",
    "\n",
    "# Step 3: Train initial model\n",
    "model = LogisticRegression(max_iter=200)\n",
    "model.fit(X_train, y_train)\n",
    "\n",
    "# Step 4: Evaluate the initial model\n",
    "y_pred = model.predict(X_test)\n",
    "accuracy = accuracy_score(y_test, y_pred)\n",
    "print(f\"Initial Model Accuracy: {accuracy:.2f}\")\n",
    "\n",
    "# Step 5: Save initial model (Version 1)\n",
    "with open('model_v1.pkl', 'wb') as f:\n",
    "    pickle.dump(model, f)\n",
    "\n",
    "print(\"model_v1.pkl saved successfully!\")\n",
    "\n",
    "# Step 6: Hyperparameter tuning (optional)\n",
    "param_grid = {'C': [0.1, 1, 10]}\n",
    "grid_search = GridSearchCV(LogisticRegression(max_iter=200), param_grid, cv=5)\n",
    "grid_search.fit(X_train, y_train)\n",
    "\n",
    "# Get the best tuned model\n",
    "best_model = grid_search.best_estimator_\n",
    "\n",
    "# Step 7: Evaluate the best model\n",
    "y_pred_best = best_model.predict(X_test)\n",
    "best_accuracy = accuracy_score(y_test, y_pred_best)\n",
    "print(f\"Tuned Model Accuracy: {best_accuracy:.2f}\")\n",
    "\n",
    "# Step 8: Save best tuned model (Version 2)\n",
    "with open('model_v2.pkl', 'wb') as f:\n",
    "    pickle.dump(best_model, f)\n",
    "\n",
    "print(\"model_v2.pkl saved successfully!\")\n"
   ]
  },
  {
   "cell_type": "code",
   "execution_count": 3,
   "id": "6f5ad812-b6a0-424a-b177-deeef74e250c",
   "metadata": {},
   "outputs": [
    {
     "name": "stdout",
     "output_type": "stream",
     "text": [
      "Loaded model_v1.pkl successfully!\n",
      "Accuracy of loaded model: 0.98\n"
     ]
    }
   ],
   "source": [
    "import pickle\n",
    "import pandas as pd\n",
    "from sklearn.datasets import load_iris\n",
    "from sklearn.metrics import accuracy_score\n",
    "\n",
    "# Step 1: Load the saved model\n",
    "with open('model_v1.pkl', 'rb') as f:\n",
    "    model = pickle.load(f)\n",
    "\n",
    "print(\"Loaded model_v1.pkl successfully!\")\n",
    "\n",
    "# Step 2: Load the Iris dataset again\n",
    "iris = load_iris()\n",
    "df = pd.DataFrame(data=iris.data, columns=iris.feature_names)\n",
    "df['species'] = iris.target\n",
    "\n",
    "X = df[iris.feature_names]\n",
    "y = df['species']\n",
    "\n",
    "# Step 3: Make predictions\n",
    "y_pred = model.predict(X)\n",
    "\n",
    "# Step 4: Evaluate model performance\n",
    "accuracy = accuracy_score(y, y_pred)\n",
    "print(f\"Accuracy of loaded model: {accuracy:.2f}\")\n",
    "\n"
   ]
  },
  {
   "cell_type": "code",
   "execution_count": null,
   "id": "ecee0e3f-d10c-40e6-aa6f-faaade49c823",
   "metadata": {},
   "outputs": [],
   "source": []
  }
 ],
 "metadata": {
  "kernelspec": {
   "display_name": "Python 3 (ipykernel)",
   "language": "python",
   "name": "python3"
  },
  "language_info": {
   "codemirror_mode": {
    "name": "ipython",
    "version": 3
   },
   "file_extension": ".py",
   "mimetype": "text/x-python",
   "name": "python",
   "nbconvert_exporter": "python",
   "pygments_lexer": "ipython3",
   "version": "3.12.6"
  }
 },
 "nbformat": 4,
 "nbformat_minor": 5
}
